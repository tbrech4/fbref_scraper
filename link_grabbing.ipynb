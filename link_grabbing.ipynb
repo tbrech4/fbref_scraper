{
 "cells": [
  {
   "cell_type": "code",
   "execution_count": 1,
   "id": "33243db8",
   "metadata": {},
   "outputs": [],
   "source": [
    "import pandas as pd\n",
    "from bs4 import BeautifulSoup\n",
    "from selenium import webdriver\n",
    "import requests\n",
    "import pandas as pd\n",
    "import csv\n",
    "\n",
    "from selenium import webdriver\n",
    "from selenium.webdriver.chrome.options import Options\n",
    "from selenium.webdriver.common.by import By"
   ]
  },
  {
   "cell_type": "code",
   "execution_count": 2,
   "id": "e0f302b9",
   "metadata": {},
   "outputs": [],
   "source": [
    "# Functions\n",
    "\n",
    "def remove_duplicates(input_list):\n",
    "    # Create a set from the list to remove duplicates\n",
    "    unique_list = set(input_list)\n",
    "    \n",
    "    # Convert the set back to a list\n",
    "    unique_list = list(unique_list)\n",
    "    \n",
    "    return unique_list\n",
    "\n",
    "def save_to_csv(input_list, file_name):\n",
    "    with open(file_name, \"w\", newline=\"\") as f:\n",
    "        writer = csv.writer(f)\n",
    "        for item in input_list:\n",
    "            writer.writerow([item])"
   ]
  },
  {
   "cell_type": "code",
   "execution_count": 8,
   "id": "91566ecd",
   "metadata": {},
   "outputs": [
    {
     "name": "stderr",
     "output_type": "stream",
     "text": [
      "C:\\Users\\tbrec\\AppData\\Local\\Temp\\ipykernel_16512\\4121538500.py:4: DeprecationWarning: headless property is deprecated, instead use add_argument('--headless') or add_argument('--headless=new')\n",
      "  options.headless = False\n"
     ]
    }
   ],
   "source": [
    "\n",
    "\n",
    "url = \"https://fbref.com/en/comps/22/keepers/Major-League-Soccer-Stats\"\n",
    "\n",
    "options = Options()\n",
    "options.headless = False\n",
    "\n",
    "driver = webdriver.Chrome(options=options)\n",
    "driver.get(url)\n",
    "\n",
    "link_list = []\n",
    "table = driver.find_element(By.ID, \"stats_keeper\")\n",
    "if table:\n",
    "    links = table.find_elements(By.TAG_NAME, \"a\")\n",
    "    for link in links:\n",
    "        link_list.append(link.get_attribute(\"href\"))\n",
    "\n",
    "driver.quit()"
   ]
  },
  {
   "cell_type": "code",
   "execution_count": 9,
   "id": "3824c7f1",
   "metadata": {},
   "outputs": [
    {
     "data": {
      "text/plain": [
       "['https://fbref.com/en/players/e6f22a6b/Luis-Barraza',\n",
       " 'https://fbref.com/en/country/USA/United-States-Football',\n",
       " 'https://fbref.com/en/squads/64e81410/New-York-City-FC-Stats',\n",
       " 'https://fbref.com/en/players/e6f22a6b/matchlogs/2023/keeper/Luis-Barraza-Match-Logs',\n",
       " 'https://fbref.com/en/players/c3e50b67/Joe-Bendik',\n",
       " 'https://fbref.com/en/country/USA/United-States-Football',\n",
       " 'https://fbref.com/en/squads/46024eeb/Philadelphia-Union-Stats',\n",
       " 'https://fbref.com/en/players/c3e50b67/matchlogs/2023/keeper/Joe-Bendik-Match-Logs',\n",
       " 'https://fbref.com/en/players/7fd42a85/David-Bingham',\n",
       " 'https://fbref.com/en/country/USA/United-States-Football',\n",
       " 'https://fbref.com/en/squads/d076914e/Portland-Timbers-Stats',\n",
       " 'https://fbref.com/en/players/7fd42a85/matchlogs/2023/keeper/David-Bingham-Match-Logs',\n",
       " 'https://fbref.com/en/players/b3b21a11/Andre-Blake',\n",
       " 'https://fbref.com/en/country/JAM/Jamaica-Football',\n",
       " 'https://fbref.com/en/squads/46024eeb/Philadelphia-Union-Stats',\n",
       " 'https://fbref.com/en/players/b3b21a11/matchlogs/2023/keeper/Andre-Blake-Match-Logs',\n",
       " 'https://fbref.com/en/players/c3a86eea/Jonathan-Bond',\n",
       " 'https://fbref.com/en/country/ENG/England-Football',\n",
       " 'https://fbref.com/en/squads/d8b46897/LA-Galaxy-Stats',\n",
       " 'https://fbref.com/en/players/c3a86eea/matchlogs/2023/keeper/Jonathan-Bond-Match-Logs',\n",
       " 'https://fbref.com/en/players/a71768a2/Christopher-Brady',\n",
       " 'https://fbref.com/en/country/USA/United-States-Football',\n",
       " 'https://fbref.com/en/squads/f9940243/Chicago-Fire-Stats',\n",
       " 'https://fbref.com/en/players/a71768a2/matchlogs/2023/keeper/Christopher-Brady-Match-Logs',\n",
       " 'https://fbref.com/en/players/9d12e142/Roman-Burki',\n",
       " 'https://fbref.com/en/country/SUI/Switzerland-Football',\n",
       " 'https://fbref.com/en/squads/bd97ac1f/St-Louis-City-Stats',\n",
       " 'https://fbref.com/en/players/9d12e142/matchlogs/2023/keeper/Roman-Burki-Match-Logs',\n",
       " 'https://fbref.com/en/players/c4d9567d/Drake-Callender',\n",
       " 'https://fbref.com/en/country/USA/United-States-Football',\n",
       " 'https://fbref.com/en/squads/cb8b86a2/Inter-Miami-Stats',\n",
       " 'https://fbref.com/en/players/c4d9567d/matchlogs/2023/keeper/Drake-Callender-Match-Logs',\n",
       " 'https://fbref.com/en/players/42ba8628/Roman-Celentano',\n",
       " 'https://fbref.com/en/country/USA/United-States-Football',\n",
       " 'https://fbref.com/en/squads/e9ea41b2/FC-Cincinnati-Stats',\n",
       " 'https://fbref.com/en/players/42ba8628/matchlogs/2023/keeper/Roman-Celentano-Match-Logs',\n",
       " 'https://fbref.com/en/players/ed6320b7/Steve-Clark',\n",
       " 'https://fbref.com/en/country/USA/United-States-Football',\n",
       " 'https://fbref.com/en/squads/0d885416/Houston-Dynamo-Stats',\n",
       " 'https://fbref.com/en/players/ed6320b7/matchlogs/2023/keeper/Steve-Clark-Match-Logs',\n",
       " 'https://fbref.com/en/players/5c07e176/Carlos-Coronel',\n",
       " 'https://fbref.com/en/country/BRA/Brazil-Football',\n",
       " 'https://fbref.com/en/squads/69a0fb10/New-York-Red-Bulls-Stats',\n",
       " 'https://fbref.com/en/players/5c07e176/matchlogs/2023/keeper/Carlos-Coronel-Match-Logs',\n",
       " 'https://fbref.com/en/players/636fc976/Daniel',\n",
       " 'https://fbref.com/en/country/BRA/Brazil-Football',\n",
       " 'https://fbref.com/en/squads/ca460650/San-Jose-Earthquakes-Stats',\n",
       " 'https://fbref.com/en/players/636fc976/matchlogs/2023/keeper/Daniel-Match-Logs',\n",
       " 'https://fbref.com/en/players/1d0a0f3e/Stefan-Frei',\n",
       " 'https://fbref.com/en/country/SUI/Switzerland-Football',\n",
       " 'https://fbref.com/en/squads/6218ebd4/Seattle-Sounders-FC-Stats',\n",
       " 'https://fbref.com/en/players/1d0a0f3e/matchlogs/2023/keeper/Stefan-Frei-Match-Logs',\n",
       " 'https://fbref.com/en/players/b76e1394/Pedro-Gallese',\n",
       " 'https://fbref.com/en/country/PER/Peru-Football',\n",
       " 'https://fbref.com/en/squads/46ef01d0/Orlando-City-Stats',\n",
       " 'https://fbref.com/en/players/b76e1394/matchlogs/2023/keeper/Pedro-Gallese-Match-Logs',\n",
       " 'https://fbref.com/en/players/d899e3bf/Brad-Guzan',\n",
       " 'https://fbref.com/en/country/USA/United-States-Football',\n",
       " 'https://fbref.com/en/squads/1ebc1a5b/Atlanta-United-Stats',\n",
       " 'https://fbref.com/en/players/d899e3bf/matchlogs/2023/keeper/Brad-Guzan-Match-Logs',\n",
       " 'https://fbref.com/en/players/4d6e50d8/Aljaz-Ivacic',\n",
       " 'https://fbref.com/en/country/SVN/Slovenia-Football',\n",
       " 'https://fbref.com/en/squads/d076914e/Portland-Timbers-Stats',\n",
       " 'https://fbref.com/en/players/4d6e50d8/matchlogs/2023/keeper/Aljaz-Ivacic-Match-Logs',\n",
       " 'https://fbref.com/en/players/c164335e/Sean-Johnson',\n",
       " 'https://fbref.com/en/country/USA/United-States-Football',\n",
       " 'https://fbref.com/en/squads/130f43fa/Toronto-FC-Stats',\n",
       " 'https://fbref.com/en/players/c164335e/matchlogs/2023/keeper/Sean-Johnson-Match-Logs',\n",
       " 'https://fbref.com/en/players/1e29552f/Jonathan-Klinsmann',\n",
       " 'https://fbref.com/en/country/USA/United-States-Football',\n",
       " 'https://fbref.com/en/squads/d8b46897/LA-Galaxy-Stats',\n",
       " 'https://fbref.com/en/players/1e29552f/matchlogs/2023/keeper/Jonathan-Klinsmann-Match-Logs',\n",
       " 'https://fbref.com/en/players/06caac45/Zac-MacMath',\n",
       " 'https://fbref.com/en/country/USA/United-States-Football',\n",
       " 'https://fbref.com/en/squads/f7d86a43/Real-Salt-Lake-Stats',\n",
       " 'https://fbref.com/en/players/06caac45/matchlogs/2023/keeper/Zac-MacMath-Match-Logs',\n",
       " 'https://fbref.com/en/players/977791f4/JT-Marcinkowski',\n",
       " 'https://fbref.com/en/country/USA/United-States-Football',\n",
       " 'https://fbref.com/en/squads/ca460650/San-Jose-Earthquakes-Stats',\n",
       " 'https://fbref.com/en/players/977791f4/matchlogs/2023/keeper/JT-Marcinkowski-Match-Logs',\n",
       " 'https://fbref.com/en/players/e75f9dba/George-Marks',\n",
       " 'https://fbref.com/en/country/USA/United-States-Football',\n",
       " 'https://fbref.com/en/squads/eb57545a/Charlotte-FC-Stats',\n",
       " 'https://fbref.com/en/players/e75f9dba/matchlogs/2023/keeper/George-Marks-Match-Logs',\n",
       " 'https://fbref.com/en/players/249362e9/John-McCarthy',\n",
       " 'https://fbref.com/en/country/USA/United-States-Football',\n",
       " 'https://fbref.com/en/squads/81d817a3/Los-Angeles-FC-Stats',\n",
       " 'https://fbref.com/en/players/249362e9/matchlogs/2023/keeper/John-McCarthy-Match-Logs',\n",
       " 'https://fbref.com/en/players/7827a6b3/Tyler-Miller',\n",
       " 'https://fbref.com/en/country/USA/United-States-Football',\n",
       " 'https://fbref.com/en/squads/44117292/DC-United-Stats',\n",
       " 'https://fbref.com/en/players/7827a6b3/matchlogs/2023/keeper/Tyler-Miller-Match-Logs',\n",
       " 'https://fbref.com/en/players/eb343262/Maarten-Paes',\n",
       " 'https://fbref.com/en/country/NED/Netherlands-Football',\n",
       " 'https://fbref.com/en/squads/15cf8f40/FC-Dallas-Stats',\n",
       " 'https://fbref.com/en/players/eb343262/matchlogs/2023/keeper/Maarten-Paes-Match-Logs',\n",
       " 'https://fbref.com/en/players/901408ac/James-Pantemis',\n",
       " 'https://fbref.com/en/country/CAN/Canada-Football',\n",
       " 'https://fbref.com/en/squads/fc22273c/CF-Montreal-Stats',\n",
       " 'https://fbref.com/en/players/901408ac/matchlogs/2023/keeper/James-Pantemis-Match-Logs',\n",
       " 'https://fbref.com/en/players/0cf321c8/Djordje-Petrovic',\n",
       " 'https://fbref.com/en/country/SRB/Serbia-Football',\n",
       " 'https://fbref.com/en/squads/3c079def/New-England-Revolution-Stats',\n",
       " 'https://fbref.com/en/players/0cf321c8/matchlogs/2023/keeper/Djordje-Petrovic-Match-Logs',\n",
       " 'https://fbref.com/en/players/6b306c92/John-Pulskamp',\n",
       " 'https://fbref.com/en/country/USA/United-States-Football',\n",
       " 'https://fbref.com/en/squads/4acb0537/Sporting-KC-Stats',\n",
       " 'https://fbref.com/en/players/6b306c92/matchlogs/2023/keeper/John-Pulskamp-Match-Logs',\n",
       " 'https://fbref.com/en/players/d9178ea2/Spencer-Richey',\n",
       " 'https://fbref.com/en/country/USA/United-States-Football',\n",
       " 'https://fbref.com/en/squads/f9940243/Chicago-Fire-Stats',\n",
       " 'https://fbref.com/en/players/d9178ea2/matchlogs/2023/keeper/Spencer-Richey-Match-Logs',\n",
       " 'https://fbref.com/en/players/6b33d86b/Eloy-Room',\n",
       " 'https://fbref.com/en/country/CUW/Curacao-Football',\n",
       " 'https://fbref.com/en/squads/529ba333/Columbus-Crew-Stats',\n",
       " 'https://fbref.com/en/players/6b33d86b/matchlogs/2023/keeper/Eloy-Room-Match-Logs',\n",
       " 'https://fbref.com/en/players/b8f47d7c/Patrick-Schulte',\n",
       " 'https://fbref.com/en/country/USA/United-States-Football',\n",
       " 'https://fbref.com/en/squads/529ba333/Columbus-Crew-Stats',\n",
       " 'https://fbref.com/en/players/b8f47d7c/matchlogs/2023/keeper/Patrick-Schulte-Match-Logs',\n",
       " 'https://fbref.com/en/players/5dc34eaa/Jonathan-Sirois',\n",
       " 'https://fbref.com/en/country/CAN/Canada-Football',\n",
       " 'https://fbref.com/en/squads/fc22273c/CF-Montreal-Stats',\n",
       " 'https://fbref.com/en/players/5dc34eaa/matchlogs/2023/keeper/Jonathan-Sirois-Match-Logs',\n",
       " 'https://fbref.com/en/players/550557e1/Pablo-Sisniega',\n",
       " 'https://fbref.com/en/country/MEX/Mexico-Football',\n",
       " 'https://fbref.com/en/squads/eb57545a/Charlotte-FC-Stats',\n",
       " 'https://fbref.com/en/players/550557e1/matchlogs/2023/keeper/Pablo-Sisniega-Match-Logs',\n",
       " 'https://fbref.com/en/players/3f41d25f/Dayne-St-Clair',\n",
       " 'https://fbref.com/en/country/CAN/Canada-Football',\n",
       " 'https://fbref.com/en/squads/99ea75a6/Minnesota-United-Stats',\n",
       " 'https://fbref.com/en/players/3f41d25f/matchlogs/2023/keeper/Dayne-St-Clair-Match-Logs',\n",
       " 'https://fbref.com/en/players/6a1940d5/Brad-Stuver',\n",
       " 'https://fbref.com/en/country/USA/United-States-Football',\n",
       " 'https://fbref.com/en/squads/b918956d/Austin-FC-Stats',\n",
       " 'https://fbref.com/en/players/6a1940d5/matchlogs/2023/keeper/Brad-Stuver-Match-Logs',\n",
       " 'https://fbref.com/en/players/52be0b7d/Yohei-Takaoka',\n",
       " 'https://fbref.com/en/country/JPN/Japan-Football',\n",
       " 'https://fbref.com/en/squads/ab41cb90/Vancouver-Whitecaps-FC-Stats',\n",
       " 'https://fbref.com/en/players/52be0b7d/matchlogs/2023/keeper/Yohei-Takaoka-Match-Logs',\n",
       " 'https://fbref.com/en/players/467f09c8/Joe-Willis',\n",
       " 'https://fbref.com/en/country/USA/United-States-Football',\n",
       " 'https://fbref.com/en/squads/35f1b818/Nashville-SC-Stats',\n",
       " 'https://fbref.com/en/players/467f09c8/matchlogs/2023/keeper/Joe-Willis-Match-Logs',\n",
       " 'https://fbref.com/en/players/ec646e88/William-Yarbrough',\n",
       " 'https://fbref.com/en/country/USA/United-States-Football',\n",
       " 'https://fbref.com/en/squads/415b4465/Colorado-Rapids-Stats',\n",
       " 'https://fbref.com/en/players/ec646e88/matchlogs/2023/keeper/William-Yarbrough-Match-Logs']"
      ]
     },
     "execution_count": 9,
     "metadata": {},
     "output_type": "execute_result"
    }
   ],
   "source": [
    "link_list"
   ]
  },
  {
   "cell_type": "code",
   "execution_count": 10,
   "id": "7e50b9d2",
   "metadata": {},
   "outputs": [],
   "source": [
    "link_list = [link for link in link_list if '/matchlogs/2023/keeper/' in link]"
   ]
  },
  {
   "cell_type": "code",
   "execution_count": 11,
   "id": "99733db6",
   "metadata": {},
   "outputs": [],
   "source": [
    "mls_keeper = link_list"
   ]
  },
  {
   "cell_type": "code",
   "execution_count": null,
   "id": "8d7d813e",
   "metadata": {},
   "outputs": [],
   "source": [
    "link_list"
   ]
  },
  {
   "cell_type": "code",
   "execution_count": 12,
   "id": "b800addf",
   "metadata": {},
   "outputs": [],
   "source": [
    "mls_keeper = remove_duplicates(mls_keeper)"
   ]
  },
  {
   "cell_type": "code",
   "execution_count": null,
   "id": "278d8180",
   "metadata": {},
   "outputs": [],
   "source": [
    "len(mls_23)"
   ]
  },
  {
   "cell_type": "code",
   "execution_count": 13,
   "id": "d5f0e840",
   "metadata": {},
   "outputs": [],
   "source": [
    "save_to_csv(mls_keeper, 'player_lists/mls_keeper.csv')"
   ]
  },
  {
   "cell_type": "code",
   "execution_count": null,
   "id": "fa7df125",
   "metadata": {},
   "outputs": [],
   "source": [
    "table"
   ]
  },
  {
   "cell_type": "code",
   "execution_count": null,
   "id": "11f47420",
   "metadata": {},
   "outputs": [],
   "source": [
    "div"
   ]
  },
  {
   "cell_type": "code",
   "execution_count": null,
   "id": "9b967751",
   "metadata": {},
   "outputs": [],
   "source": [
    "tbody_tags"
   ]
  },
  {
   "cell_type": "code",
   "execution_count": null,
   "id": "d2931b14",
   "metadata": {},
   "outputs": [],
   "source": [
    "\n",
    "url = \"https://fbref.com/en/comps/22/2022/shooting/2022-Major-League-Soccer-Stats\"\n",
    "\n",
    "# send a GET request to the URL\n",
    "response = requests.get(url)\n",
    "\n",
    "# parse the HTML content of the page\n",
    "soup = BeautifulSoup(response.text, \"html.parser\")\n",
    "\n",
    "# find all the td elements with the attribute data-stat=\"player\"\n",
    "table = soup.find('tbody')\n",
    "\n"
   ]
  },
  {
   "cell_type": "code",
   "execution_count": null,
   "id": "ffbb5ae7",
   "metadata": {},
   "outputs": [],
   "source": [
    "table"
   ]
  },
  {
   "cell_type": "code",
   "execution_count": null,
   "id": "0ef70c00",
   "metadata": {},
   "outputs": [],
   "source": [
    "soup"
   ]
  },
  {
   "cell_type": "code",
   "execution_count": null,
   "id": "a324e24a",
   "metadata": {},
   "outputs": [],
   "source": [
    "table"
   ]
  },
  {
   "cell_type": "code",
   "execution_count": null,
   "id": "56ca471f",
   "metadata": {},
   "outputs": [],
   "source": [
    "#Get links \n",
    "squad_url = 'https://fbref.com/en/comps/22/2022/passing_types/2022-Major-League-Soccer-Stats'\n",
    "response = requests.get(squad_url)\n",
    "\n",
    "soup = BeautifulSoup(response.text,'html.parser')\n",
    "\n",
    "links = []\n",
    "for link in soup.find_all('a'):\n",
    "    links.append(link.get(\"href\"))"
   ]
  },
  {
   "cell_type": "code",
   "execution_count": null,
   "id": "31c70aae",
   "metadata": {},
   "outputs": [],
   "source": [
    "links"
   ]
  },
  {
   "cell_type": "code",
   "execution_count": null,
   "id": "b5addf26",
   "metadata": {},
   "outputs": [],
   "source": [
    "# Split each link into chunks\n",
    "chunks = []\n",
    "for link in links:\n",
    "    if link:\n",
    "        chunk = link.split(\"/\")\n",
    "        chunks.append(chunk)\n",
    "\n",
    "# Convert the list of chunks into a DataFrame\n",
    "df = pd.DataFrame(chunks)\n",
    "\n",
    "# Print the resulting DataFrame\n",
    "d"
   ]
  },
  {
   "cell_type": "code",
   "execution_count": null,
   "id": "dd987a9d",
   "metadata": {},
   "outputs": [],
   "source": [
    "df"
   ]
  },
  {
   "cell_type": "code",
   "execution_count": null,
   "id": "d0203450",
   "metadata": {},
   "outputs": [],
   "source": [
    "div"
   ]
  },
  {
   "cell_type": "code",
   "execution_count": null,
   "id": "19afc9b0",
   "metadata": {},
   "outputs": [],
   "source": [
    "links"
   ]
  },
  {
   "cell_type": "code",
   "execution_count": null,
   "id": "fc8b930f",
   "metadata": {},
   "outputs": [],
   "source": [
    "\n",
    "link_df = pd.DataFrame(links)\n",
    "link_df.to_csv('links2.csv')"
   ]
  },
  {
   "cell_type": "code",
   "execution_count": null,
   "id": "29cc2155",
   "metadata": {},
   "outputs": [],
   "source": [
    "#lists to loop through\n",
    "cats = ['shooting','keeper','passing','passing_types','gca','defense','possession','misc']\n",
    "year_range = ['2017-2018','2018-2019','2019-2020','2020-2021','2021-2022','2022-2023']"
   ]
  },
  {
   "cell_type": "code",
   "execution_count": null,
   "id": "eab8a694",
   "metadata": {},
   "outputs": [],
   "source": [
    "squad_number = squad_codes['Squad_Code'][0]\n",
    "print(squad_number)"
   ]
  },
  {
   "cell_type": "code",
   "execution_count": null,
   "id": "4008db4a",
   "metadata": {},
   "outputs": [],
   "source": [
    "range(len(squad_codes))"
   ]
  },
  {
   "cell_type": "code",
   "execution_count": null,
   "id": "1867bcf3",
   "metadata": {},
   "outputs": [],
   "source": [
    "squad_codes['Text'][0]"
   ]
  },
  {
   "cell_type": "code",
   "execution_count": null,
   "id": "0d91b996",
   "metadata": {},
   "outputs": [],
   "source": [
    "#url builder\n",
    "\n",
    "scrape_link = f\"https://fbref.com/en/squads/{squad_number}/{year_range}/matchlogs/all_comps/{stats_category}/{final_detail_string}\""
   ]
  },
  {
   "cell_type": "code",
   "execution_count": null,
   "id": "7c03cfce",
   "metadata": {},
   "outputs": [],
   "source": [
    "pages_to_scrape = []\n",
    "\n",
    "for x in range(len(year_range)):\n",
    "    for i in range(len(squad_codes)):\n",
    "        for z in range(len(cats)):\n",
    "            link = (f\"https://fbref.com/en/squads/{squad_codes['Squad_Code'][i]}/{year_range[x]}/matchlogs/all_comps/{cats[z]}/{squad_codes['Text'][i]}\")\n",
    "            pages_to_scrape.append(link)\n",
    "            "
   ]
  },
  {
   "cell_type": "code",
   "execution_count": null,
   "id": "e5badbd4",
   "metadata": {},
   "outputs": [],
   "source": [
    "pages_to_scrape"
   ]
  },
  {
   "cell_type": "code",
   "execution_count": null,
   "id": "17fc71f2",
   "metadata": {},
   "outputs": [],
   "source": [
    "len(pages_to_scrape)"
   ]
  },
  {
   "cell_type": "code",
   "execution_count": null,
   "id": "6f95a300",
   "metadata": {},
   "outputs": [],
   "source": [
    "squad_codes = pd.read_csv('big5_MLS_squad_codes.csv')"
   ]
  },
  {
   "cell_type": "code",
   "execution_count": null,
   "id": "7dbc8aed",
   "metadata": {},
   "outputs": [],
   "source": [
    "squad_codes"
   ]
  },
  {
   "cell_type": "code",
   "execution_count": null,
   "id": "a24d96ce",
   "metadata": {},
   "outputs": [],
   "source": [
    "squad_codes['Text'][5]"
   ]
  },
  {
   "cell_type": "code",
   "execution_count": null,
   "id": "db08ed13",
   "metadata": {},
   "outputs": [],
   "source": [
    "squad_codes['Squad Code']"
   ]
  },
  {
   "cell_type": "code",
   "execution_count": null,
   "id": "4c90b9ab",
   "metadata": {},
   "outputs": [],
   "source": [
    "scrape_link_test = f\"https://fbref.com/en/squads/{squad_codes['Squad_Code'][0]}/{year_range[5]}/matchlogs/all_comps/{cats[2]}/{squad_codes['Text'][5]}\"\n",
    "print(scrape_link_test)"
   ]
  },
  {
   "cell_type": "code",
   "execution_count": null,
   "id": "003c5789",
   "metadata": {},
   "outputs": [],
   "source": [
    "for x in range(len(squad_codes)):\n",
    "    print(f\"{squad_codes['Squad Code'][x]} - {squad_codes['Squad Name'][x]}\")"
   ]
  },
  {
   "cell_type": "code",
   "execution_count": null,
   "id": "cf4097a2",
   "metadata": {},
   "outputs": [],
   "source": [
    "import time\n",
    "\n",
    "for i in range(10):\n",
    "    print(\"Progress: [\", \"=\"*i, \" \"*(9-i), \"]\", i+1, \"/10\", end=\"\\r\")\n",
    "    time.sleep(3)"
   ]
  },
  {
   "cell_type": "code",
   "execution_count": null,
   "id": "2d97e841",
   "metadata": {},
   "outputs": [],
   "source": [
    "test_link = 'https://fbref.com/en/squads/18bb7c10/2017-2018/matchlogs/all_comps/possession/Arsenal-Match-Logs-All-Competitions'"
   ]
  },
  {
   "cell_type": "code",
   "execution_count": null,
   "id": "29ed05a9",
   "metadata": {},
   "outputs": [],
   "source": [
    "# Test Scrape\n",
    "\n",
    "res = requests.get(test_link)\n",
    "soup = BeautifulSoup(res.text, 'html.parser')\n",
    "\n",
    "# Find the table with the desired div id\n",
    "table = soup.find('table', {'id': 'matchlogs_for'})\n",
    "\n",
    "table_body = table.find('tbody')\n",
    "\n",
    "rows = table_body.find_all('tr')\n",
    "\n",
    "data = []\n",
    "\n",
    "for row in rows:\n",
    "    cols = row.find_all(['td','th'])\n",
    "    cols = [col.text.strip() for col in cols]\n",
    "    data.append(cols)\n",
    "    \n",
    "df_for = pd.DataFrame(data, columns=['Date','Time','Comp','Round','Day','Venue','Result','GF','GA','Opponent','Possession','Touches','Touches in Def Pen Area','Touches in Def 3rd','Touches in Mid 3rd','Touches in Att 3rd','Touches in Att Pen Area','Live ball touches','Attempted Take ons','Succesful Take Ons','Take on success rate','Number of times tackled during take on','% of take ons tackled','Carries','Total Carry Distance','Progressive Carrying Distance','Progressive Carries','Carries into final third','Carries into penalty area','Miscontrols','Dispossessions','Passes Received','Progressive Passes Received','Match Report'])"
   ]
  },
  {
   "cell_type": "code",
   "execution_count": null,
   "id": "c51517e8",
   "metadata": {},
   "outputs": [],
   "source": [
    "df_for"
   ]
  },
  {
   "cell_type": "code",
   "execution_count": null,
   "id": "5b807acc",
   "metadata": {},
   "outputs": [],
   "source": [
    "score_columns = ['Date','Time','Comp','Round','Day','Venue','Result','GF','GA','Opponent','xG','xGA','Poss','Attendance','Captain','Formation','Referee','Match Report','Notes'\n",
    "]\n",
    "\n",
    "passing_columns = ['Time','Comp','Round','Day','Venue','Result','GF','GA','Opponent','Cmp','Att','Cmp%','TotDist','PrgDist','Shrt_Cmp','Shrt_Att','Shrt_Cmp%','Med_Cmp','Med_Att','Med_Cmp%','Lng_Cmp','Lng_Att','Lng_Cmp%','Ast','xAG','xA','KP','attacking_third_passes','18_yard_box_pass_completed','Completed_Cross','Prog_Pass','Match_Report'\n",
    "]\n",
    "\n",
    "shooting_columns = ['Time','Comp','Round','Day','Venue','Result','GF','GA','Opponent','Gls','Sh','SoT','SoT%','G/Sh','G/SoT','Dist','FK','PK','PKatt','xG','npxG','npxG/Sh','G-xG','np:G-xG','Match Report'\n",
    "]\n",
    "\n"
   ]
  },
  {
   "cell_type": "code",
   "execution_count": null,
   "id": "5f1f3152",
   "metadata": {},
   "outputs": [],
   "source": [
    "# Test against Scrape\n",
    "\n",
    "res = requests.get(scrape_link_test)\n",
    "soup = BeautifulSoup(res.text, 'html.parser')\n",
    "\n",
    "# Find the table with the desired div id\n",
    "table = soup.find('table', {'id': 'matchlogs_against'})\n",
    "\n",
    "rows = table.find_all('tr')\n",
    "\n",
    "data = []\n",
    "\n",
    "for row in rows:\n",
    "    cols = row.find_all('td')\n",
    "    cols = [col.text.strip() for col in cols]\n",
    "    data.append(cols)\n",
    "    \n",
    "df_against = pd.DataFrame(data, columns=['Time','Comp','Round','Day','Venue','Result','GF','GA','Opponent','Cmp','Att','Cmp%','TotDist','PrgDist','Shrt_Cmp','Shrt_Att','Shrt_Cmp%','Med_Cmp','Med_Att','Med_Cmp%','Lng_Cmp','Lng_Att','Lng_Cmp%','Ast','xAG','xA','KP','attacking_third_passes','18_yard_box_pass_completed','Completed_Cross','Prog_Pass','Match_Report'\n",
    "])"
   ]
  },
  {
   "cell_type": "code",
   "execution_count": null,
   "id": "b4743f49",
   "metadata": {},
   "outputs": [],
   "source": [
    "df_against"
   ]
  },
  {
   "cell_type": "code",
   "execution_count": null,
   "id": "f9a7345b",
   "metadata": {},
   "outputs": [],
   "source": [
    "for x in range(len(squad_codes)):\n",
    "    print(f\"{squad_codes['Squad_Code'][x]} - {squad_codes['Squad Name'][x]}\")"
   ]
  },
  {
   "cell_type": "code",
   "execution_count": null,
   "id": "b3be8dc2",
   "metadata": {},
   "outputs": [],
   "source": []
  }
 ],
 "metadata": {
  "kernelspec": {
   "display_name": "Python 3 (ipykernel)",
   "language": "python",
   "name": "python3"
  },
  "language_info": {
   "codemirror_mode": {
    "name": "ipython",
    "version": 3
   },
   "file_extension": ".py",
   "mimetype": "text/x-python",
   "name": "python",
   "nbconvert_exporter": "python",
   "pygments_lexer": "ipython3",
   "version": "3.9.13"
  }
 },
 "nbformat": 4,
 "nbformat_minor": 5
}
