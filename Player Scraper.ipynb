{
 "cells": [
  {
   "cell_type": "code",
   "execution_count": 1,
   "id": "901c952e",
   "metadata": {},
   "outputs": [
    {
     "data": {
      "text/html": [
       "<style>.container { width:100% !important; }</style>"
      ],
      "text/plain": [
       "<IPython.core.display.HTML object>"
      ]
     },
     "metadata": {},
     "output_type": "display_data"
    }
   ],
   "source": [
    "# Package Imports and CSV Reads\n",
    "\n",
    "import pandas as pd\n",
    "from bs4 import BeautifulSoup\n",
    "from selenium import webdriver\n",
    "import requests\n",
    "import pandas as pd\n",
    "import time\n",
    "import tqdm\n",
    "\n",
    "import warnings\n",
    "warnings.filterwarnings(\"ignore\")\n",
    "\n",
    "big5_squad_codes = pd.read_csv('big5_squad_codes.csv')\n",
    "mls_squad_codes = pd.read_csv('mls_squad_codes.csv')\n",
    "\n",
    "from IPython.display import display, HTML\n",
    "display(HTML(\"<style>.container { width:100% !important; }</style>\"))"
   ]
  },
  {
   "cell_type": "code",
   "execution_count": null,
   "id": "723fe7c4",
   "metadata": {},
   "outputs": [],
   "source": [
    "test_player = 'https://fbref.com/en/players/f07be45a/matchlogs/2018/summary/Wayne-Rooney-Match-Logs'\n",
    "response = requests.get(test_player)\n",
    "\n",
    "soup = BeautifulSoup(response.text,'html.parser')"
   ]
  },
  {
   "cell_type": "code",
   "execution_count": null,
   "id": "cbec9050",
   "metadata": {},
   "outputs": [],
   "source": [
    "test_div = soup.find('div', id='meta')"
   ]
  },
  {
   "cell_type": "code",
   "execution_count": null,
   "id": "9f18b88a",
   "metadata": {},
   "outputs": [],
   "source": [
    "#This will get you player name - need to use in scraper function\n",
    "test_div.find('span').text"
   ]
  },
  {
   "cell_type": "code",
   "execution_count": 2,
   "id": "0c4a419b",
   "metadata": {},
   "outputs": [],
   "source": [
    "cats = ['summary','passing','passing_types','gca','defense','possession','misc']"
   ]
  },
  {
   "cell_type": "code",
   "execution_count": 3,
   "id": "3ccf342d",
   "metadata": {},
   "outputs": [],
   "source": [
    "summary_columns = [['Date','Day','Comp','Round','Venue','Result','Squad','Opponent','Start','Pos','Min','Gls','Ast','PK Made','PKatt','Sh','SoT','CrdY','CrdR','Touches','Tkl','Int','Blocks','xG','npxG','xAG','SCA','GCA','Passes Completed','Passes Attempted','Passing Cmp%','Progressive Passes','Carries','Progressive Carries','Take on Att','Take on Success','Match Report']]\n",
    "\n",
    "passing_columns = [['Date','Day','Comp','Round','Venue','Result','Squad','Opponent','Start','Pos','Min','Total Passes Completed','Total Passes Attempted','Total Passing Completion %','Total Passing Distance','Total Progressive Passing Distance','Short Passes Completed','Short Passes Attempted','Short Passing Cmp%','Medium Passes Completed','Medium Passes Attempted','Medium Passes Completion %','Long Passes Complete','Long Passes Attempted','Long Pass Completion %','Assists','xAG','expected assists','Key Passes','Passes into final third','Passes into penalty area','Crosses into penalty','Progressive Passes','Match Report']]\n",
    "\n",
    "pass_type_columns = [['Date','Day','Comp','Round','Venue','Result','Squad','Opponent','Start','Pos','Min','Passes Attempted','Live Ball Passes','Dead-ball passes','Passes from FK','Through Balls','Switch Passes','Crosses','Throw-ins','Corner Kicks','In-swinging Corner','Outswinging Corner','Straight Corner','Passes Complete','Passes Offside','Passes Blocked','Match Report']]\n",
    "\n",
    "gca_columns = [['Date','Day','Comp','Round','Venue','Result','Squad','Opponent','Start','Pos','Min','SCA','SCA from Live Pass','SCA from deadball pass','SCA from Take on','SCA from Shot','SCA from foul drawn','SCA from defense action','GCA','GCA from Live Pass','GCA from deadball pass','GCA from Take on','GCA from Shot','GCA from foul drawn','GCA from defense action','Match Report']]\n",
    "\n",
    "defense_columns = [['Date','Day','Comp','Round','Venue','Result','Squad','Opponent','Start','Pos','Min','Tackles','Tackles Won','Tackles in defensive third','Tackles in Mid third','Tackles in Attacking third','Dribblers Tackled','Attempted Tackles on Dribbler','% of succesfull tackles on dribbler','Unsuccesful tackles on dribbler','Blocks','Shots Blocked','Passes Blocked','Interceptions','Tackles + Interceptions','Clearances','Errors','Match Report']]\n",
    "\n",
    "poss_columns = [['Date','Day','Comp','Round','Venue','Result','Squad','Opponent','Start','Pos','Min','Touches','Touches in Def Pen Area','Touches in Def Third','Touches in Mid Third','Touches in Att Third','Touches in Attacking Penalty Box','Live Ball Touches','Attempted Take On','Succesful Take On','Take on Success Rate','Times Tackled During Take On','Tackled During Take on %','Carries','Total Carry Distance','Prg Carry Distance','Carries into final third','Carries into penalty box','Miscontrols','Times Dispossesed','Passes Received','Progressive Passes Received','Match Report']]\n",
    "\n",
    "misc_columns = [['Date','Day','Comp','Round','Venue','Result','Squad','Opponent','Start','Pos','Min','Yellow Cards','Red Cards','2nd Yellow Card','Fouls','Fouls Drawn','Offsides','Crosses','Interceptions','Tackles Won','Penalty Kicks Won','Penalty Kicks Conceded','Own Goals','Ball Recoveries','Aerials Won','Aerieals Lost','Aerial Duel win %','Match Report']]\n"
   ]
  },
  {
   "cell_type": "code",
   "execution_count": null,
   "id": "a3344a95",
   "metadata": {},
   "outputs": [],
   "source": [
    "test_summary_df = pd.DataFrame(columns=summary_columns, dtype=object)"
   ]
  },
  {
   "cell_type": "code",
   "execution_count": null,
   "id": "3b7f9ccb",
   "metadata": {},
   "outputs": [],
   "source": [
    "mls_2023_players = pd.read_csv('player_lists/mls_field/test_list.csv')"
   ]
  },
  {
   "cell_type": "code",
   "execution_count": 26,
   "id": "fe28a609",
   "metadata": {},
   "outputs": [],
   "source": [
    "test_list = pd.read_csv('player_lists/mls_field/test_list.csv')\n",
    "test_list = test_list.dropna()\n",
    "test_list['Year'] = test_list['Year'].astype(int)"
   ]
  },
  {
   "cell_type": "code",
   "execution_count": 27,
   "id": "b9215e59",
   "metadata": {},
   "outputs": [
    {
     "name": "stdout",
     "output_type": "stream",
     "text": [
      "<class 'pandas.core.frame.DataFrame'>\n",
      "Int64Index: 20 entries, 0 to 19\n",
      "Data columns (total 4 columns):\n",
      " #   Column      Non-Null Count  Dtype \n",
      "---  ------      --------------  ----- \n",
      " 0   Squad_Code  20 non-null     object\n",
      " 1   Year        20 non-null     int32 \n",
      " 2   Name        20 non-null     object\n",
      " 3   Text        20 non-null     object\n",
      "dtypes: int32(1), object(3)\n",
      "memory usage: 720.0+ bytes\n"
     ]
    }
   ],
   "source": [
    "test_list.info()"
   ]
  },
  {
   "cell_type": "code",
   "execution_count": 18,
   "id": "a8de58ea",
   "metadata": {},
   "outputs": [
    {
     "data": {
      "text/plain": [
       "range(0, 20)"
      ]
     },
     "execution_count": 18,
     "metadata": {},
     "output_type": "execute_result"
    }
   ],
   "source": [
    "range(len(list(test_list['Squad_Code'])))"
   ]
  },
  {
   "cell_type": "code",
   "execution_count": 19,
   "id": "a8770192",
   "metadata": {},
   "outputs": [
    {
     "data": {
      "text/plain": [
       "'a79b9e17'"
      ]
     },
     "execution_count": 19,
     "metadata": {},
     "output_type": "execute_result"
    }
   ],
   "source": [
    "test_list['Squad_Code'][0]"
   ]
  },
  {
   "cell_type": "code",
   "execution_count": 28,
   "id": "46770cfe",
   "metadata": {},
   "outputs": [],
   "source": [
    "#Link Creation - Creating list of all links before 2023 and one list of 2023 for both big 5 & MLS.\n",
    "\n",
    "##\n",
    "mls_links = []\n",
    "for category in range(len(cats)):\n",
    "    for squad in range(len(list(test_list['Squad_Code']))):\n",
    "        link = (f\"https://fbref.com/en/players/{test_list['Squad_Code'][squad]}/matchlogs/{test_list['Year'][squad]}/{cats[category]}/{test_list['Text'][squad]}\")\n",
    "        mls_links.append(link)\n",
    "\n",
    "mls_field_summary_23 = []\n",
    "for squad in range(len(list(test_list['Squad_Code']))):\n",
    "        link = (f\"https://fbref.com/en/players/{test_list['Squad_Code'][squad]}/matchlogs/{test_list['Year'][squad]}/summary/{test_list['Text'][squad]}\")\n",
    "        mls_field_summary_23.append(link)"
   ]
  },
  {
   "cell_type": "code",
   "execution_count": 29,
   "id": "d489157b",
   "metadata": {},
   "outputs": [
    {
     "data": {
      "text/plain": [
       "['https://fbref.com/en/players/a79b9e17/matchlogs/2023/summary/Njabulo-Blom-Match-Logs',\n",
       " 'https://fbref.com/en/players/122e850d/matchlogs/2023/summary/Romell-Quioto-Match-Logs',\n",
       " 'https://fbref.com/en/players/1bb2acce/matchlogs/2023/summary/Paul-Arriola-Match-Logs',\n",
       " 'https://fbref.com/en/players/ab070c55/matchlogs/2023/summary/Christian-Benteke-Match-Logs',\n",
       " 'https://fbref.com/en/players/782a95d9/matchlogs/2023/summary/Miles-Robinson-Match-Logs',\n",
       " 'https://fbref.com/en/players/6c8fb474/matchlogs/2023/summary/Maximiliano-Urruti-Match-Logs',\n",
       " 'https://fbref.com/en/players/339a2561/matchlogs/2023/summary/Jacob-Shaffelburg-Match-Logs',\n",
       " 'https://fbref.com/en/players/3778339c/matchlogs/2023/summary/Aidan-Morris-Match-Logs',\n",
       " 'https://fbref.com/en/players/a295f0b3/matchlogs/2023/summary/Nelson-Quinones-Match-Logs',\n",
       " 'https://fbref.com/en/players/db6540c5/matchlogs/2023/summary/Franco-Ibarra-Match-Logs',\n",
       " 'https://fbref.com/en/players/336dbcb2/matchlogs/2023/summary/Adama-Diomande-Match-Logs',\n",
       " 'https://fbref.com/en/players/df8c4d49/matchlogs/2023/summary/John-Nelson-Match-Logs',\n",
       " 'https://fbref.com/en/players/23c75879/matchlogs/2023/summary/Henry-Kessler-Match-Logs',\n",
       " 'https://fbref.com/en/players/540a5be1/matchlogs/2023/summary/Ali-Ahmed-Match-Logs',\n",
       " 'https://fbref.com/en/players/6bfa0d3a/matchlogs/2023/summary/Michael-Boxall-Match-Logs',\n",
       " 'https://fbref.com/en/players/9fcd12af/matchlogs/2023/summary/Brandon-Bye-Match-Logs',\n",
       " 'https://fbref.com/en/players/70678132/matchlogs/2023/summary/Eduard-Lowen-Match-Logs',\n",
       " 'https://fbref.com/en/players/8ef72983/matchlogs/2023/summary/McKinze-Gaines-Match-Logs',\n",
       " 'https://fbref.com/en/players/7f35d14e/matchlogs/2023/summary/Tristan-Blackmon-Match-Logs',\n",
       " 'https://fbref.com/en/players/59059f1e/matchlogs/2023/summary/Derrick-Etienne-Match-Logs',\n",
       " 'https://fbref.com/en/players/a79b9e17/matchlogs/2023/passing/Njabulo-Blom-Match-Logs',\n",
       " 'https://fbref.com/en/players/122e850d/matchlogs/2023/passing/Romell-Quioto-Match-Logs',\n",
       " 'https://fbref.com/en/players/1bb2acce/matchlogs/2023/passing/Paul-Arriola-Match-Logs',\n",
       " 'https://fbref.com/en/players/ab070c55/matchlogs/2023/passing/Christian-Benteke-Match-Logs',\n",
       " 'https://fbref.com/en/players/782a95d9/matchlogs/2023/passing/Miles-Robinson-Match-Logs',\n",
       " 'https://fbref.com/en/players/6c8fb474/matchlogs/2023/passing/Maximiliano-Urruti-Match-Logs',\n",
       " 'https://fbref.com/en/players/339a2561/matchlogs/2023/passing/Jacob-Shaffelburg-Match-Logs',\n",
       " 'https://fbref.com/en/players/3778339c/matchlogs/2023/passing/Aidan-Morris-Match-Logs',\n",
       " 'https://fbref.com/en/players/a295f0b3/matchlogs/2023/passing/Nelson-Quinones-Match-Logs',\n",
       " 'https://fbref.com/en/players/db6540c5/matchlogs/2023/passing/Franco-Ibarra-Match-Logs',\n",
       " 'https://fbref.com/en/players/336dbcb2/matchlogs/2023/passing/Adama-Diomande-Match-Logs',\n",
       " 'https://fbref.com/en/players/df8c4d49/matchlogs/2023/passing/John-Nelson-Match-Logs',\n",
       " 'https://fbref.com/en/players/23c75879/matchlogs/2023/passing/Henry-Kessler-Match-Logs',\n",
       " 'https://fbref.com/en/players/540a5be1/matchlogs/2023/passing/Ali-Ahmed-Match-Logs',\n",
       " 'https://fbref.com/en/players/6bfa0d3a/matchlogs/2023/passing/Michael-Boxall-Match-Logs',\n",
       " 'https://fbref.com/en/players/9fcd12af/matchlogs/2023/passing/Brandon-Bye-Match-Logs',\n",
       " 'https://fbref.com/en/players/70678132/matchlogs/2023/passing/Eduard-Lowen-Match-Logs',\n",
       " 'https://fbref.com/en/players/8ef72983/matchlogs/2023/passing/McKinze-Gaines-Match-Logs',\n",
       " 'https://fbref.com/en/players/7f35d14e/matchlogs/2023/passing/Tristan-Blackmon-Match-Logs',\n",
       " 'https://fbref.com/en/players/59059f1e/matchlogs/2023/passing/Derrick-Etienne-Match-Logs',\n",
       " 'https://fbref.com/en/players/a79b9e17/matchlogs/2023/passing_types/Njabulo-Blom-Match-Logs',\n",
       " 'https://fbref.com/en/players/122e850d/matchlogs/2023/passing_types/Romell-Quioto-Match-Logs',\n",
       " 'https://fbref.com/en/players/1bb2acce/matchlogs/2023/passing_types/Paul-Arriola-Match-Logs',\n",
       " 'https://fbref.com/en/players/ab070c55/matchlogs/2023/passing_types/Christian-Benteke-Match-Logs',\n",
       " 'https://fbref.com/en/players/782a95d9/matchlogs/2023/passing_types/Miles-Robinson-Match-Logs',\n",
       " 'https://fbref.com/en/players/6c8fb474/matchlogs/2023/passing_types/Maximiliano-Urruti-Match-Logs',\n",
       " 'https://fbref.com/en/players/339a2561/matchlogs/2023/passing_types/Jacob-Shaffelburg-Match-Logs',\n",
       " 'https://fbref.com/en/players/3778339c/matchlogs/2023/passing_types/Aidan-Morris-Match-Logs',\n",
       " 'https://fbref.com/en/players/a295f0b3/matchlogs/2023/passing_types/Nelson-Quinones-Match-Logs',\n",
       " 'https://fbref.com/en/players/db6540c5/matchlogs/2023/passing_types/Franco-Ibarra-Match-Logs',\n",
       " 'https://fbref.com/en/players/336dbcb2/matchlogs/2023/passing_types/Adama-Diomande-Match-Logs',\n",
       " 'https://fbref.com/en/players/df8c4d49/matchlogs/2023/passing_types/John-Nelson-Match-Logs',\n",
       " 'https://fbref.com/en/players/23c75879/matchlogs/2023/passing_types/Henry-Kessler-Match-Logs',\n",
       " 'https://fbref.com/en/players/540a5be1/matchlogs/2023/passing_types/Ali-Ahmed-Match-Logs',\n",
       " 'https://fbref.com/en/players/6bfa0d3a/matchlogs/2023/passing_types/Michael-Boxall-Match-Logs',\n",
       " 'https://fbref.com/en/players/9fcd12af/matchlogs/2023/passing_types/Brandon-Bye-Match-Logs',\n",
       " 'https://fbref.com/en/players/70678132/matchlogs/2023/passing_types/Eduard-Lowen-Match-Logs',\n",
       " 'https://fbref.com/en/players/8ef72983/matchlogs/2023/passing_types/McKinze-Gaines-Match-Logs',\n",
       " 'https://fbref.com/en/players/7f35d14e/matchlogs/2023/passing_types/Tristan-Blackmon-Match-Logs',\n",
       " 'https://fbref.com/en/players/59059f1e/matchlogs/2023/passing_types/Derrick-Etienne-Match-Logs',\n",
       " 'https://fbref.com/en/players/a79b9e17/matchlogs/2023/gca/Njabulo-Blom-Match-Logs',\n",
       " 'https://fbref.com/en/players/122e850d/matchlogs/2023/gca/Romell-Quioto-Match-Logs',\n",
       " 'https://fbref.com/en/players/1bb2acce/matchlogs/2023/gca/Paul-Arriola-Match-Logs',\n",
       " 'https://fbref.com/en/players/ab070c55/matchlogs/2023/gca/Christian-Benteke-Match-Logs',\n",
       " 'https://fbref.com/en/players/782a95d9/matchlogs/2023/gca/Miles-Robinson-Match-Logs',\n",
       " 'https://fbref.com/en/players/6c8fb474/matchlogs/2023/gca/Maximiliano-Urruti-Match-Logs',\n",
       " 'https://fbref.com/en/players/339a2561/matchlogs/2023/gca/Jacob-Shaffelburg-Match-Logs',\n",
       " 'https://fbref.com/en/players/3778339c/matchlogs/2023/gca/Aidan-Morris-Match-Logs',\n",
       " 'https://fbref.com/en/players/a295f0b3/matchlogs/2023/gca/Nelson-Quinones-Match-Logs',\n",
       " 'https://fbref.com/en/players/db6540c5/matchlogs/2023/gca/Franco-Ibarra-Match-Logs',\n",
       " 'https://fbref.com/en/players/336dbcb2/matchlogs/2023/gca/Adama-Diomande-Match-Logs',\n",
       " 'https://fbref.com/en/players/df8c4d49/matchlogs/2023/gca/John-Nelson-Match-Logs',\n",
       " 'https://fbref.com/en/players/23c75879/matchlogs/2023/gca/Henry-Kessler-Match-Logs',\n",
       " 'https://fbref.com/en/players/540a5be1/matchlogs/2023/gca/Ali-Ahmed-Match-Logs',\n",
       " 'https://fbref.com/en/players/6bfa0d3a/matchlogs/2023/gca/Michael-Boxall-Match-Logs',\n",
       " 'https://fbref.com/en/players/9fcd12af/matchlogs/2023/gca/Brandon-Bye-Match-Logs',\n",
       " 'https://fbref.com/en/players/70678132/matchlogs/2023/gca/Eduard-Lowen-Match-Logs',\n",
       " 'https://fbref.com/en/players/8ef72983/matchlogs/2023/gca/McKinze-Gaines-Match-Logs',\n",
       " 'https://fbref.com/en/players/7f35d14e/matchlogs/2023/gca/Tristan-Blackmon-Match-Logs',\n",
       " 'https://fbref.com/en/players/59059f1e/matchlogs/2023/gca/Derrick-Etienne-Match-Logs',\n",
       " 'https://fbref.com/en/players/a79b9e17/matchlogs/2023/defense/Njabulo-Blom-Match-Logs',\n",
       " 'https://fbref.com/en/players/122e850d/matchlogs/2023/defense/Romell-Quioto-Match-Logs',\n",
       " 'https://fbref.com/en/players/1bb2acce/matchlogs/2023/defense/Paul-Arriola-Match-Logs',\n",
       " 'https://fbref.com/en/players/ab070c55/matchlogs/2023/defense/Christian-Benteke-Match-Logs',\n",
       " 'https://fbref.com/en/players/782a95d9/matchlogs/2023/defense/Miles-Robinson-Match-Logs',\n",
       " 'https://fbref.com/en/players/6c8fb474/matchlogs/2023/defense/Maximiliano-Urruti-Match-Logs',\n",
       " 'https://fbref.com/en/players/339a2561/matchlogs/2023/defense/Jacob-Shaffelburg-Match-Logs',\n",
       " 'https://fbref.com/en/players/3778339c/matchlogs/2023/defense/Aidan-Morris-Match-Logs',\n",
       " 'https://fbref.com/en/players/a295f0b3/matchlogs/2023/defense/Nelson-Quinones-Match-Logs',\n",
       " 'https://fbref.com/en/players/db6540c5/matchlogs/2023/defense/Franco-Ibarra-Match-Logs',\n",
       " 'https://fbref.com/en/players/336dbcb2/matchlogs/2023/defense/Adama-Diomande-Match-Logs',\n",
       " 'https://fbref.com/en/players/df8c4d49/matchlogs/2023/defense/John-Nelson-Match-Logs',\n",
       " 'https://fbref.com/en/players/23c75879/matchlogs/2023/defense/Henry-Kessler-Match-Logs',\n",
       " 'https://fbref.com/en/players/540a5be1/matchlogs/2023/defense/Ali-Ahmed-Match-Logs',\n",
       " 'https://fbref.com/en/players/6bfa0d3a/matchlogs/2023/defense/Michael-Boxall-Match-Logs',\n",
       " 'https://fbref.com/en/players/9fcd12af/matchlogs/2023/defense/Brandon-Bye-Match-Logs',\n",
       " 'https://fbref.com/en/players/70678132/matchlogs/2023/defense/Eduard-Lowen-Match-Logs',\n",
       " 'https://fbref.com/en/players/8ef72983/matchlogs/2023/defense/McKinze-Gaines-Match-Logs',\n",
       " 'https://fbref.com/en/players/7f35d14e/matchlogs/2023/defense/Tristan-Blackmon-Match-Logs',\n",
       " 'https://fbref.com/en/players/59059f1e/matchlogs/2023/defense/Derrick-Etienne-Match-Logs',\n",
       " 'https://fbref.com/en/players/a79b9e17/matchlogs/2023/possession/Njabulo-Blom-Match-Logs',\n",
       " 'https://fbref.com/en/players/122e850d/matchlogs/2023/possession/Romell-Quioto-Match-Logs',\n",
       " 'https://fbref.com/en/players/1bb2acce/matchlogs/2023/possession/Paul-Arriola-Match-Logs',\n",
       " 'https://fbref.com/en/players/ab070c55/matchlogs/2023/possession/Christian-Benteke-Match-Logs',\n",
       " 'https://fbref.com/en/players/782a95d9/matchlogs/2023/possession/Miles-Robinson-Match-Logs',\n",
       " 'https://fbref.com/en/players/6c8fb474/matchlogs/2023/possession/Maximiliano-Urruti-Match-Logs',\n",
       " 'https://fbref.com/en/players/339a2561/matchlogs/2023/possession/Jacob-Shaffelburg-Match-Logs',\n",
       " 'https://fbref.com/en/players/3778339c/matchlogs/2023/possession/Aidan-Morris-Match-Logs',\n",
       " 'https://fbref.com/en/players/a295f0b3/matchlogs/2023/possession/Nelson-Quinones-Match-Logs',\n",
       " 'https://fbref.com/en/players/db6540c5/matchlogs/2023/possession/Franco-Ibarra-Match-Logs',\n",
       " 'https://fbref.com/en/players/336dbcb2/matchlogs/2023/possession/Adama-Diomande-Match-Logs',\n",
       " 'https://fbref.com/en/players/df8c4d49/matchlogs/2023/possession/John-Nelson-Match-Logs',\n",
       " 'https://fbref.com/en/players/23c75879/matchlogs/2023/possession/Henry-Kessler-Match-Logs',\n",
       " 'https://fbref.com/en/players/540a5be1/matchlogs/2023/possession/Ali-Ahmed-Match-Logs',\n",
       " 'https://fbref.com/en/players/6bfa0d3a/matchlogs/2023/possession/Michael-Boxall-Match-Logs',\n",
       " 'https://fbref.com/en/players/9fcd12af/matchlogs/2023/possession/Brandon-Bye-Match-Logs',\n",
       " 'https://fbref.com/en/players/70678132/matchlogs/2023/possession/Eduard-Lowen-Match-Logs',\n",
       " 'https://fbref.com/en/players/8ef72983/matchlogs/2023/possession/McKinze-Gaines-Match-Logs',\n",
       " 'https://fbref.com/en/players/7f35d14e/matchlogs/2023/possession/Tristan-Blackmon-Match-Logs',\n",
       " 'https://fbref.com/en/players/59059f1e/matchlogs/2023/possession/Derrick-Etienne-Match-Logs',\n",
       " 'https://fbref.com/en/players/a79b9e17/matchlogs/2023/misc/Njabulo-Blom-Match-Logs',\n",
       " 'https://fbref.com/en/players/122e850d/matchlogs/2023/misc/Romell-Quioto-Match-Logs',\n",
       " 'https://fbref.com/en/players/1bb2acce/matchlogs/2023/misc/Paul-Arriola-Match-Logs',\n",
       " 'https://fbref.com/en/players/ab070c55/matchlogs/2023/misc/Christian-Benteke-Match-Logs',\n",
       " 'https://fbref.com/en/players/782a95d9/matchlogs/2023/misc/Miles-Robinson-Match-Logs',\n",
       " 'https://fbref.com/en/players/6c8fb474/matchlogs/2023/misc/Maximiliano-Urruti-Match-Logs',\n",
       " 'https://fbref.com/en/players/339a2561/matchlogs/2023/misc/Jacob-Shaffelburg-Match-Logs',\n",
       " 'https://fbref.com/en/players/3778339c/matchlogs/2023/misc/Aidan-Morris-Match-Logs',\n",
       " 'https://fbref.com/en/players/a295f0b3/matchlogs/2023/misc/Nelson-Quinones-Match-Logs',\n",
       " 'https://fbref.com/en/players/db6540c5/matchlogs/2023/misc/Franco-Ibarra-Match-Logs',\n",
       " 'https://fbref.com/en/players/336dbcb2/matchlogs/2023/misc/Adama-Diomande-Match-Logs',\n",
       " 'https://fbref.com/en/players/df8c4d49/matchlogs/2023/misc/John-Nelson-Match-Logs',\n",
       " 'https://fbref.com/en/players/23c75879/matchlogs/2023/misc/Henry-Kessler-Match-Logs',\n",
       " 'https://fbref.com/en/players/540a5be1/matchlogs/2023/misc/Ali-Ahmed-Match-Logs',\n",
       " 'https://fbref.com/en/players/6bfa0d3a/matchlogs/2023/misc/Michael-Boxall-Match-Logs',\n",
       " 'https://fbref.com/en/players/9fcd12af/matchlogs/2023/misc/Brandon-Bye-Match-Logs',\n",
       " 'https://fbref.com/en/players/70678132/matchlogs/2023/misc/Eduard-Lowen-Match-Logs',\n",
       " 'https://fbref.com/en/players/8ef72983/matchlogs/2023/misc/McKinze-Gaines-Match-Logs',\n",
       " 'https://fbref.com/en/players/7f35d14e/matchlogs/2023/misc/Tristan-Blackmon-Match-Logs',\n",
       " 'https://fbref.com/en/players/59059f1e/matchlogs/2023/misc/Derrick-Etienne-Match-Logs']"
      ]
     },
     "execution_count": 29,
     "metadata": {},
     "output_type": "execute_result"
    }
   ],
   "source": [
    "mls_links"
   ]
  },
  {
   "cell_type": "code",
   "execution_count": null,
   "id": "10634549",
   "metadata": {},
   "outputs": [],
   "source": []
  }
 ],
 "metadata": {
  "kernelspec": {
   "display_name": "Python 3 (ipykernel)",
   "language": "python",
   "name": "python3"
  },
  "language_info": {
   "codemirror_mode": {
    "name": "ipython",
    "version": 3
   },
   "file_extension": ".py",
   "mimetype": "text/x-python",
   "name": "python",
   "nbconvert_exporter": "python",
   "pygments_lexer": "ipython3",
   "version": "3.9.13"
  }
 },
 "nbformat": 4,
 "nbformat_minor": 5
}
