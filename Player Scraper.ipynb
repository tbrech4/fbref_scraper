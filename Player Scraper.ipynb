{
 "cells": [
  {
   "cell_type": "code",
   "execution_count": 3,
   "id": "901c952e",
   "metadata": {},
   "outputs": [
    {
     "data": {
      "text/html": [
       "<style>.container { width:100% !important; }</style>"
      ],
      "text/plain": [
       "<IPython.core.display.HTML object>"
      ]
     },
     "metadata": {},
     "output_type": "display_data"
    }
   ],
   "source": [
    "# Package Imports and CSV Reads\n",
    "\n",
    "import pandas as pd\n",
    "from bs4 import BeautifulSoup\n",
    "from selenium import webdriver\n",
    "import requests\n",
    "import pandas as pd\n",
    "import time\n",
    "import tqdm\n",
    "\n",
    "import warnings\n",
    "warnings.filterwarnings(\"ignore\")\n",
    "\n",
    "only_23_all = pd.read_csv('player_lists/only_23_all.csv')\n",
    "only_23_gk = pd.read_csv('player_lists/only_23_gk.csv')\n",
    "pre_23_all = pd.read_csv('player_lists/pre_23_all.csv')\n",
    "pre_23_gk = pd.read_csv('player_lists/pre_23_gk.csv')\n",
    "\n",
    "\n",
    "\n",
    "from IPython.display import display, HTML\n",
    "display(HTML(\"<style>.container { width:100% !important; }</style>\"))"
   ]
  },
  {
   "cell_type": "code",
   "execution_count": null,
   "id": "723fe7c4",
   "metadata": {},
   "outputs": [],
   "source": [
    "#This will get you player name - need to use in scraper function\n",
    "\n",
    "test_player = 'https://fbref.com/en/players/f07be45a/matchlogs/2018/summary/Wayne-Rooney-Match-Logs'\n",
    "response = requests.get(test_player)\n",
    "soup = BeautifulSoup(response.text,'html.parser')\n",
    "test_div = soup.find('div', id='meta')\n",
    "test_div.find('span').text"
   ]
  },
  {
   "cell_type": "code",
   "execution_count": 4,
   "id": "0c4a419b",
   "metadata": {},
   "outputs": [],
   "source": [
    "cats = ['summary','passing','passing_types','gca','defense','possession','misc']"
   ]
  },
  {
   "cell_type": "code",
   "execution_count": 5,
   "id": "3ccf342d",
   "metadata": {},
   "outputs": [],
   "source": [
    "summary_columns = [['Date','Day','Comp','Round','Venue','Result','Squad','Opponent','Start','Pos','Min','Gls','Ast','PK Made','PKatt','Sh','SoT','CrdY','CrdR','Touches','Tkl','Int','Blocks','xG','npxG','xAG','SCA','GCA','Passes Completed','Passes Attempted','Passing Cmp%','Progressive Passes','Carries','Progressive Carries','Take on Att','Take on Success','Match Report']]\n",
    "\n",
    "passing_columns = [['Date','Day','Comp','Round','Venue','Result','Squad','Opponent','Start','Pos','Min','Total Passes Completed','Total Passes Attempted','Total Passing Completion %','Total Passing Distance','Total Progressive Passing Distance','Short Passes Completed','Short Passes Attempted','Short Passing Cmp%','Medium Passes Completed','Medium Passes Attempted','Medium Passes Completion %','Long Passes Complete','Long Passes Attempted','Long Pass Completion %','Assists','xAG','expected assists','Key Passes','Passes into final third','Passes into penalty area','Crosses into penalty','Progressive Passes','Match Report']]\n",
    "\n",
    "pass_type_columns = [['Date','Day','Comp','Round','Venue','Result','Squad','Opponent','Start','Pos','Min','Passes Attempted','Live Ball Passes','Dead-ball passes','Passes from FK','Through Balls','Switch Passes','Crosses','Throw-ins','Corner Kicks','In-swinging Corner','Outswinging Corner','Straight Corner','Passes Complete','Passes Offside','Passes Blocked','Match Report']]\n",
    "\n",
    "gca_columns = [['Date','Day','Comp','Round','Venue','Result','Squad','Opponent','Start','Pos','Min','SCA','SCA from Live Pass','SCA from deadball pass','SCA from Take on','SCA from Shot','SCA from foul drawn','SCA from defense action','GCA','GCA from Live Pass','GCA from deadball pass','GCA from Take on','GCA from Shot','GCA from foul drawn','GCA from defense action','Match Report']]\n",
    "\n",
    "defense_columns = [['Date','Day','Comp','Round','Venue','Result','Squad','Opponent','Start','Pos','Min','Tackles','Tackles Won','Tackles in defensive third','Tackles in Mid third','Tackles in Attacking third','Dribblers Tackled','Attempted Tackles on Dribbler','% of succesfull tackles on dribbler','Unsuccesful tackles on dribbler','Blocks','Shots Blocked','Passes Blocked','Interceptions','Tackles + Interceptions','Clearances','Errors','Match Report']]\n",
    "\n",
    "poss_columns = [['Date','Day','Comp','Round','Venue','Result','Squad','Opponent','Start','Pos','Min','Touches','Touches in Def Pen Area','Touches in Def Third','Touches in Mid Third','Touches in Att Third','Touches in Attacking Penalty Box','Live Ball Touches','Attempted Take On','Succesful Take On','Take on Success Rate','Times Tackled During Take On','Tackled During Take on %','Carries','Total Carry Distance','Prg Carry Distance','Carries into final third','Carries into penalty box','Miscontrols','Times Dispossesed','Passes Received','Progressive Passes Received','Match Report']]\n",
    "\n",
    "misc_columns = [['Date','Day','Comp','Round','Venue','Result','Squad','Opponent','Start','Pos','Min','Yellow Cards','Red Cards','2nd Yellow Card','Fouls','Fouls Drawn','Offsides','Crosses','Interceptions','Tackles Won','Penalty Kicks Won','Penalty Kicks Conceded','Own Goals','Ball Recoveries','Aerials Won','Aerieals Lost','Aerial Duel win %','Match Report']]\n"
   ]
  },
  {
   "cell_type": "code",
   "execution_count": 23,
   "id": "1cc8501e",
   "metadata": {},
   "outputs": [],
   "source": [
    "#Player Scraper Function\n",
    "\n",
    "def player_scraper(link_list,dataframe,column_list,csv_title):\n",
    "    i = 0\n",
    "    for link in tqdm.tqdm(link_list):\n",
    "        time.sleep(3)\n",
    "        \n",
    "        response = requests.get(link_list[i])\n",
    "        soup = BeautifulSoup(response.text,'html.parser')\n",
    "        name_div = soup.find('div', id='meta')\n",
    "        player_name = name_div.find('span').text\n",
    "        i += 1\n",
    "\n",
    "        data_table = soup.find('table',{'id': 'matchlogs_all'})\n",
    "        table_body = data_table.find('tbody')\n",
    "        table_rows = table_body.find_all('tr')\n",
    "\n",
    "        data = []\n",
    "\n",
    "        for row in table_rows:\n",
    "                cols = row.find_all(['td','th'])\n",
    "                cols = [col.text.strip() for col in cols]\n",
    "                data.append(cols)\n",
    "                \n",
    "        temp_df = pd.DataFrame(data, columns=column_list)\n",
    "        temp_df['Player_Name'] = player_name\n",
    "        dataframe = dataframe.append(temp_df, ignore_index=True)\n",
    "    dataframe.to_csv(f\"player_data/{csv_title}.csv\",index=False)\n",
    "    return "
   ]
  },
  {
   "cell_type": "code",
   "execution_count": 21,
   "id": "b3428d5f",
   "metadata": {},
   "outputs": [],
   "source": [
    "summary_df = pd.DataFrame(columns=summary_columns, dtype=object)"
   ]
  },
  {
   "cell_type": "code",
   "execution_count": 7,
   "id": "a3344a95",
   "metadata": {},
   "outputs": [],
   "source": [
    "test_summary_df = pd.DataFrame(columns=summary_columns, dtype=object)"
   ]
  },
  {
   "cell_type": "code",
   "execution_count": 8,
   "id": "3b7f9ccb",
   "metadata": {},
   "outputs": [],
   "source": [
    "mls_2023_players = pd.read_csv('player_lists/mls_field/test_list.csv')"
   ]
  },
  {
   "cell_type": "code",
   "execution_count": 9,
   "id": "fe28a609",
   "metadata": {},
   "outputs": [],
   "source": [
    "test_list = pd.read_csv('player_lists/mls_field/test_list.csv')\n",
    "test_list = test_list.dropna()\n",
    "test_list['Year'] = test_list['Year'].astype(int)"
   ]
  },
  {
   "cell_type": "code",
   "execution_count": null,
   "id": "257568df",
   "metadata": {},
   "outputs": [],
   "source": [
    "test_list"
   ]
  },
  {
   "cell_type": "code",
   "execution_count": null,
   "id": "b9215e59",
   "metadata": {},
   "outputs": [],
   "source": [
    "test_list.info()"
   ]
  },
  {
   "cell_type": "code",
   "execution_count": null,
   "id": "a8de58ea",
   "metadata": {},
   "outputs": [],
   "source": [
    "range(len(list(test_list['Squad_Code'])))"
   ]
  },
  {
   "cell_type": "code",
   "execution_count": null,
   "id": "a8770192",
   "metadata": {},
   "outputs": [],
   "source": [
    "test_list['Squad_Code'][0]"
   ]
  },
  {
   "cell_type": "code",
   "execution_count": 15,
   "id": "46770cfe",
   "metadata": {},
   "outputs": [],
   "source": [
    "#Link Creation - Creating list of all links before 2023 and one list of 2023 for both big 5 & MLS.\n",
    "\n",
    "##\n",
    "mls_links = []\n",
    "for category in range(len(cats)):\n",
    "    for squad in range(len(list(test_list['Squad_Code']))):\n",
    "        link = (f\"https://fbref.com/en/players/{test_list['Squad_Code'][squad]}/matchlogs/{test_list['Year'][squad]}/{cats[category]}/{test_list['Text'][squad]}\")\n",
    "        mls_links.append(link)\n",
    "\n",
    "field_summary_23 = []\n",
    "for squad in range(len(list(test_list['Squad_Code']))):\n",
    "        link = (f\"https://fbref.com/en/players/{test_list['Squad_Code'][squad]}/matchlogs/{test_list['Year'][squad]}/summary/{test_list['Text'][squad]}\")\n",
    "        field_summary_23.append(link)\n",
    "        \n",
    "mls_field_passing_23 = []\n",
    "for squad in range(len(list(test_list['Squad_Code']))):\n",
    "        link = (f\"https://fbref.com/en/players/{test_list['Squad_Code'][squad]}/matchlogs/{test_list['Year'][squad]}/summary/{test_list['Text'][squad]}\")\n",
    "        mls_field_passing_23.append(link)\n",
    "        \n",
    "gk_before_23_summary = []\n",
    "\n"
   ]
  },
  {
   "cell_type": "code",
   "execution_count": 17,
   "id": "d489157b",
   "metadata": {},
   "outputs": [
    {
     "data": {
      "text/plain": [
       "20"
      ]
     },
     "execution_count": 17,
     "metadata": {},
     "output_type": "execute_result"
    }
   ],
   "source": [
    "len(field_summary_23)"
   ]
  },
  {
   "cell_type": "code",
   "execution_count": 18,
   "id": "05d55d50",
   "metadata": {},
   "outputs": [
    {
     "data": {
      "text/plain": [
       "'https://fbref.com/en/players/a79b9e17/matchlogs/2023/summary/Njabulo-Blom-Match-Logs'"
      ]
     },
     "execution_count": 18,
     "metadata": {},
     "output_type": "execute_result"
    }
   ],
   "source": [
    "field_summary_23[0]"
   ]
  },
  {
   "cell_type": "code",
   "execution_count": null,
   "id": "43ee281c",
   "metadata": {},
   "outputs": [],
   "source": []
  },
  {
   "cell_type": "markdown",
   "id": "20af4463",
   "metadata": {},
   "source": []
  },
  {
   "cell_type": "code",
   "execution_count": null,
   "id": "10634549",
   "metadata": {},
   "outputs": [],
   "source": [
    "# Test Scrape of Summary DF, convert to function after. \n",
    "i = 0\n",
    "for link in tqdm.tqdm(mls_field_summary_23):\n",
    "    time.sleep(3)\n",
    "\n",
    "    response = requests.get(mls_field_summary_23[i])\n",
    "    soup = BeautifulSoup(response.text,'html.parser')\n",
    "    name_div = soup.find('div', id='meta')\n",
    "    player_name = name_div.find('span').text\n",
    "    i += 1\n",
    "    \n",
    "    data_table = soup.find('table',{'id': 'matchlogs_all'})\n",
    "    table_body = data_table.find('tbody')\n",
    "    table_rows = table_body.find_all('tr')\n",
    "    \n",
    "    data = []\n",
    "    \n",
    "    for row in table_rows:\n",
    "            cols = row.find_all(['td','th'])\n",
    "            cols = [col.text.strip() for col in cols]\n",
    "            data.append(cols)\n",
    "    \n",
    "    temp_df = pd.DataFrame(data, columns=summary_columns)\n",
    "    temp_df['Player_Name'] = player_name\n",
    "    summary_df = summary_df.append(temp_df, ignore_index=True)\n",
    "    "
   ]
  },
  {
   "cell_type": "code",
   "execution_count": null,
   "id": "f819cda7",
   "metadata": {},
   "outputs": [],
   "source": [
    "summary_df.head()"
   ]
  },
  {
   "cell_type": "code",
   "execution_count": null,
   "id": "ce3d3301",
   "metadata": {},
   "outputs": [],
   "source": [
    "summary_df['Player_Name']"
   ]
  },
  {
   "cell_type": "code",
   "execution_count": null,
   "id": "0bc886fb",
   "metadata": {},
   "outputs": [],
   "source": []
  },
  {
   "cell_type": "code",
   "execution_count": 19,
   "id": "7e7e9b6d",
   "metadata": {},
   "outputs": [],
   "source": [
    "test = field_summary_23[0:3]"
   ]
  },
  {
   "cell_type": "code",
   "execution_count": 24,
   "id": "9fe2125d",
   "metadata": {},
   "outputs": [
    {
     "name": "stderr",
     "output_type": "stream",
     "text": [
      "100%|████████████████████████████████████████████████████████████████████████████████████| 3/3 [00:10<00:00,  3.36s/it]\n"
     ]
    }
   ],
   "source": [
    "player_scraper(test,summary_df,summary_columns,\"Summary\")"
   ]
  },
  {
   "cell_type": "code",
   "execution_count": null,
   "id": "c9064f5d",
   "metadata": {},
   "outputs": [],
   "source": [
    "summary_df"
   ]
  },
  {
   "cell_type": "code",
   "execution_count": null,
   "id": "e0032047",
   "metadata": {},
   "outputs": [],
   "source": []
  }
 ],
 "metadata": {
  "kernelspec": {
   "display_name": "Python 3 (ipykernel)",
   "language": "python",
   "name": "python3"
  },
  "language_info": {
   "codemirror_mode": {
    "name": "ipython",
    "version": 3
   },
   "file_extension": ".py",
   "mimetype": "text/x-python",
   "name": "python",
   "nbconvert_exporter": "python",
   "pygments_lexer": "ipython3",
   "version": "3.7.13"
  }
 },
 "nbformat": 4,
 "nbformat_minor": 5
}
