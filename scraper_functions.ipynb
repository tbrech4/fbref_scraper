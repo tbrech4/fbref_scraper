{
 "cells": [
  {
   "cell_type": "code",
   "execution_count": 43,
   "id": "ba1f6eab",
   "metadata": {},
   "outputs": [
    {
     "data": {
      "text/html": [
       "<style>.container { width:100% !important; }</style>"
      ],
      "text/plain": [
       "<IPython.core.display.HTML object>"
      ]
     },
     "metadata": {},
     "output_type": "display_data"
    }
   ],
   "source": [
    "# Package Imports and CSV Reads\n",
    "\n",
    "import pandas as pd\n",
    "from bs4 import BeautifulSoup\n",
    "from selenium import webdriver\n",
    "import requests\n",
    "import pandas as pd\n",
    "import time\n",
    "import tqdm\n",
    "\n",
    "import warnings\n",
    "warnings.filterwarnings(\"ignore\")\n",
    "\n",
    "big5_squad_codes = pd.read_csv('big5_squad_codes.csv')\n",
    "mls_squad_codes = pd.read_csv('mls_squad_codes.csv')\n",
    "\n",
    "from IPython.display import display, HTML\n",
    "display(HTML(\"<style>.container { width:100% !important; }</style>\"))\n",
    "\n",
    "big_5_fielders = pd.read_csv('player_lists/big_5_field.csv')\n",
    "big_5_keepers = pd.read_csv('player_lists/big_5_keeper.csv')\n",
    "mls_fielders = pd.read_csv('player_lists/mls_field.csv')\n",
    "mls_keepers = pd.read_csv('player_lists/mls_keeper.csv')"
   ]
  },
  {
   "cell_type": "code",
   "execution_count": null,
   "id": "cd6b8f80",
   "metadata": {},
   "outputs": [],
   "source": []
  }
 ],
 "metadata": {
  "kernelspec": {
   "display_name": "Python 3 (ipykernel)",
   "language": "python",
   "name": "python3"
  },
  "language_info": {
   "codemirror_mode": {
    "name": "ipython",
    "version": 3
   },
   "file_extension": ".py",
   "mimetype": "text/x-python",
   "name": "python",
   "nbconvert_exporter": "python",
   "pygments_lexer": "ipython3",
   "version": "3.9.13"
  }
 },
 "nbformat": 4,
 "nbformat_minor": 5
}
