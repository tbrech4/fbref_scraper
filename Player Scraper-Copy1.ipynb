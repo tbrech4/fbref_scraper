{
 "cells": [
  {
   "cell_type": "code",
   "execution_count": 1,
   "id": "901c952e",
   "metadata": {},
   "outputs": [
    {
     "data": {
      "text/html": [
       "<style>.container { width:100% !important; }</style>"
      ],
      "text/plain": [
       "<IPython.core.display.HTML object>"
      ]
     },
     "metadata": {},
     "output_type": "display_data"
    }
   ],
   "source": [
    "# Package Imports and CSV Reads\n",
    "\n",
    "import pandas as pd\n",
    "from bs4 import BeautifulSoup\n",
    "from selenium import webdriver\n",
    "import requests\n",
    "import pandas as pd\n",
    "import time\n",
    "import tqdm\n",
    "\n",
    "import warnings\n",
    "warnings.filterwarnings(\"ignore\")\n",
    "\n",
    "only_23_all = pd.read_csv('player_lists/only_23_all.csv')\n",
    "only_23_gk = pd.read_csv('player_lists/only_23_gk.csv')\n",
    "pre_23_all = pd.read_csv('player_lists/pre_23_all.csv')\n",
    "pre_23_gk = pd.read_csv('player_lists/pre_23_gk.csv')\n",
    "\n",
    "\n",
    "\n",
    "from IPython.display import display, HTML\n",
    "display(HTML(\"<style>.container { width:100% !important; }</style>\"))"
   ]
  },
  {
   "cell_type": "code",
   "execution_count": 2,
   "id": "723fe7c4",
   "metadata": {},
   "outputs": [
    {
     "data": {
      "text/plain": [
       "'Wayne Rooney'"
      ]
     },
     "execution_count": 2,
     "metadata": {},
     "output_type": "execute_result"
    }
   ],
   "source": [
    "#This will get you player name - need to use in scraper function\n",
    "\n",
    "test_player = 'https://fbref.com/en/players/f07be45a/matchlogs/2018/summary/Wayne-Rooney-Match-Logs'\n",
    "response = requests.get(test_player)\n",
    "soup = BeautifulSoup(response.text,'html.parser')\n",
    "test_div = soup.find('div', id='meta')\n",
    "test_div.find('span').text"
   ]
  },
  {
   "cell_type": "code",
   "execution_count": 3,
   "id": "3ccf342d",
   "metadata": {},
   "outputs": [],
   "source": [
    "cats = ['summary','passing','passing_types','gca','defense','possession','misc']\n",
    "\n",
    "goalkeeping_columns = [['Date','Day','Comp','Round','Venue','Result','Squad','Opponent','Start','Pos','Min','Shots on Target Allowed','Goals Allowed','Saves','Save %','Clean Sheet','Post Shot xG','PK attempts','Penalty Kicks Allowed','Penalty Kicks Saved','Penalty Kicks Missed','Launched Passes Completed','Launched Passes Attempted','Launched Passes Completion %','Passes Attempted','Passes thrown','% of Passes Launched','Average Pass Length','Goal Kicks Attempted','Goal Kick Avg Length','Goal Kick Launch %','Opponent Crosses Faced','Opponent Crosses Stopped','% of Opponent Crosses Stopped','Defensive Actions outside box','Average Distance From Goal - All Defensive Actions','Match Report']]\n",
    "\n",
    "summary_columns = [['Date','Day','Comp','Round','Venue','Result','Squad','Opponent','Start','Pos','Min','Gls','Ast','PK Made','PKatt','Sh','SoT','CrdY','CrdR','Touches','Tkl','Int','Blocks','xG','npxG','xAG','SCA','GCA','Passes Completed','Passes Attempted','Passing Cmp%','Progressive Passes','Carries','Progressive Carries','Take on Att','Take on Success','Match Report']]\n",
    "\n",
    "passing_columns = [['Date','Day','Comp','Round','Venue','Result','Squad','Opponent','Start','Pos','Min','Total Passes Completed','Total Passes Attempted','Total Passing Completion %','Total Passing Distance','Total Progressive Passing Distance','Short Passes Completed','Short Passes Attempted','Short Passing Cmp%','Medium Passes Completed','Medium Passes Attempted','Medium Passes Completion %','Long Passes Complete','Long Passes Attempted','Long Pass Completion %','Assists','xAG','expected assists','Key Passes','Passes into final third','Passes into penalty area','Crosses into penalty','Progressive Passes','Match Report']]\n",
    "\n",
    "pass_type_columns = [['Date','Day','Comp','Round','Venue','Result','Squad','Opponent','Start','Pos','Min','Passes Attempted','Live Ball Passes','Dead-ball passes','Passes from FK','Through Balls','Switch Passes','Crosses','Throw-ins','Corner Kicks','In-swinging Corner','Outswinging Corner','Straight Corner','Passes Complete','Passes Offside','Passes Blocked','Match Report']]\n",
    "\n",
    "gca_columns = [['Date','Day','Comp','Round','Venue','Result','Squad','Opponent','Start','Pos','Min','SCA','SCA from Live Pass','SCA from deadball pass','SCA from Take on','SCA from Shot','SCA from foul drawn','SCA from defense action','GCA','GCA from Live Pass','GCA from deadball pass','GCA from Take on','GCA from Shot','GCA from foul drawn','GCA from defense action','Match Report']]\n",
    "\n",
    "defense_columns = [['Date','Day','Comp','Round','Venue','Result','Squad','Opponent','Start','Pos','Min','Tackles','Tackles Won','Tackles in defensive third','Tackles in Mid third','Tackles in Attacking third','Dribblers Tackled','Attempted Tackles on Dribbler','% of succesfull tackles on dribbler','Unsuccesful tackles on dribbler','Blocks','Shots Blocked','Passes Blocked','Interceptions','Tackles + Interceptions','Clearances','Errors','Match Report']]\n",
    "\n",
    "poss_columns = [['Date','Day','Comp','Round','Venue','Result','Squad','Opponent','Start','Pos','Min','Touches','Touches in Def Pen Area','Touches in Def Third','Touches in Mid Third','Touches in Att Third','Touches in Attacking Penalty Box','Live Ball Touches','Attempted Take On','Succesful Take On','Take on Success Rate','Times Tackled During Take On','Tackled During Take on %','Carries','Total Carry Distance','Prg Carry Distance','Carries into final third','Carries into penalty box','Miscontrols','Times Dispossesed','Passes Received','Progressive Passes Received','Match Report']]\n",
    "\n",
    "misc_columns = [['Date','Day','Comp','Round','Venue','Result','Squad','Opponent','Start','Pos','Min','Yellow Cards','Red Cards','2nd Yellow Card','Fouls','Fouls Drawn','Offsides','Crosses','Interceptions','Tackles Won','Penalty Kicks Won','Penalty Kicks Conceded','Own Goals','Ball Recoveries','Aerials Won','Aerieals Lost','Aerial Duel win %','Match Report']]\n",
    "\n",
    "gk_df = pd.DataFrame(columns=goalkeeping_columns, dtype=object)\n",
    "summary_df = pd.DataFrame(columns=summary_columns, dtype=object)\n",
    "passing_df = pd.DataFrame(columns=passing_columns, dtype=object)\n",
    "pass_type_df = pd.DataFrame(columns=pass_type_columns, dtype=object)\n",
    "gca_df = pd.DataFrame(columns=gca_columns, dtype=object)\n",
    "defense_df = pd.DataFrame(columns=defense_columns, dtype=object)\n",
    "poss_df = pd.DataFrame(columns=poss_columns, dtype=object)\n",
    "misc_df = pd.DataFrame(columns=misc_columns, dtype=object)\n"
   ]
  },
  {
   "cell_type": "code",
   "execution_count": 4,
   "id": "1cc8501e",
   "metadata": {},
   "outputs": [],
   "source": [
    "#Player Scraper Function\n",
    "\n",
    "def player_scraper(link_list, dataframe, column_list, csv_title):\n",
    "    i = 0\n",
    "    for link in tqdm.tqdm(link_list):\n",
    "        try:\n",
    "            time.sleep(3)\n",
    "            \n",
    "            response = requests.get(link_list[i])\n",
    "            soup = BeautifulSoup(response.text, 'html.parser')\n",
    "            name_div = soup.find('div', id='meta')\n",
    "            player_name = name_div.find('span').text\n",
    "            i += 1\n",
    "\n",
    "            data_table = soup.find('table', {'id': 'matchlogs_all'})\n",
    "            table_body = data_table.find('tbody')\n",
    "            table_rows = table_body.find_all('tr')\n",
    "\n",
    "            data = []\n",
    "\n",
    "            for row in table_rows:\n",
    "                    cols = row.find_all(['td', 'th'])\n",
    "                    cols = [col.text.strip() for col in cols]\n",
    "                    data.append(cols)\n",
    "\n",
    "            temp_df = pd.DataFrame(data, columns=column_list)\n",
    "            temp_df['Player_Name'] = player_name\n",
    "            dataframe = dataframe.append(temp_df, ignore_index=True)\n",
    "        except Exception as e:\n",
    "            print(f\"Error processing link {link}: {e}\")\n",
    "            continue\n",
    "\n",
    "    dataframe.to_csv(f\"player_data/{csv_title}.csv\", index=False)\n",
    "    return"
   ]
  },
  {
   "cell_type": "code",
   "execution_count": 5,
   "id": "46770cfe",
   "metadata": {},
   "outputs": [],
   "source": [
    "#Link Creation - Creating list of all links before 2023 and one list of 2023 for both big 5 & MLS.\n",
    "\n",
    "\n",
    "pre_23_gk_list = []\n",
    "\n",
    "for squad in range(len(list(pre_23_gk['Squad_Code']))):\n",
    "        link = (f\"https://fbref.com/en/players/{pre_23_gk['Squad_Code'][squad]}/matchlogs/{pre_23_gk['Year'][squad]}/keeper/{pre_23_gk['Text'][squad]}\")\n",
    "        pre_23_gk_list.append(link)\n",
    "\n",
    "only_23_gk_list = []\n",
    "\n",
    "for squad in range(len(list(only_23_gk['Squad_Code']))):\n",
    "        link = (f\"https://fbref.com/en/players/{only_23_gk['Squad_Code'][squad]}/matchlogs/{only_23_gk['Year'][squad]}/keeper/{only_23_gk['Text'][squad]}\")\n",
    "        only_23_gk_list.append(link)\n",
    "\n",
    "pre_23_summary_list = []\n",
    "\n",
    "for squad in range(len(list(pre_23_all['Squad_Code']))):\n",
    "        link = (f\"https://fbref.com/en/players/{pre_23_all['Squad_Code'][squad]}/matchlogs/{pre_23_all['Year'][squad]}/summary/{pre_23_all['Text'][squad]}\")\n",
    "        pre_23_summary_list.append(link)\n",
    "        \n",
    "only_23_summary_list = []\n",
    "\n",
    "for squad in range(len(list(only_23_all['Squad_Code']))):\n",
    "        link = (f\"https://fbref.com/en/players/{only_23_all['Squad_Code'][squad]}/matchlogs/{only_23_all['Year'][squad]}/summary/{only_23_all['Text'][squad]}\")\n",
    "        only_23_summary_list.append(link)\n",
    "\n",
    "\n",
    "pre_23_passing_list = []\n",
    "\n",
    "for squad in range(len(list(pre_23_all['Squad_Code']))):\n",
    "        link = (f\"https://fbref.com/en/players/{pre_23_all['Squad_Code'][squad]}/matchlogs/{pre_23_all['Year'][squad]}/passing/{pre_23_all['Text'][squad]}\")\n",
    "        pre_23_passing_list.append(link)\n",
    "        \n",
    "only_23_passing_list = []\n",
    "\n",
    "for squad in range(len(list(only_23_all['Squad_Code']))):\n",
    "        link = (f\"https://fbref.com/en/players/{only_23_all['Squad_Code'][squad]}/matchlogs/{only_23_all['Year'][squad]}/passing/{only_23_all['Text'][squad]}\")\n",
    "        only_23_passing_list.append(link)\n",
    "        \n",
    "pre_23_passing_type_list = []\n",
    "\n",
    "for squad in range(len(list(pre_23_all['Squad_Code']))):\n",
    "        link = (f\"https://fbref.com/en/players/{pre_23_all['Squad_Code'][squad]}/matchlogs/{pre_23_all['Year'][squad]}/passing_types/{pre_23_all['Text'][squad]}\")\n",
    "        pre_23_passing_type_list.append(link)\n",
    "        \n",
    "only_23_passing_type_list = []\n",
    "\n",
    "for squad in range(len(list(only_23_all['Squad_Code']))):\n",
    "        link = (f\"https://fbref.com/en/players/{only_23_all['Squad_Code'][squad]}/matchlogs/{only_23_all['Year'][squad]}/passing_types/{only_23_all['Text'][squad]}\")\n",
    "        only_23_passing_type_list.append(link)\n",
    "        \n",
    "pre_23_gca_list = []\n",
    "\n",
    "for squad in range(len(list(pre_23_all['Squad_Code']))):\n",
    "        link = (f\"https://fbref.com/en/players/{pre_23_all['Squad_Code'][squad]}/matchlogs/{pre_23_all['Year'][squad]}/gca/{pre_23_all['Text'][squad]}\")\n",
    "        pre_23_gca_list.append(link)\n",
    "        \n",
    "only_23_gca_list = []\n",
    "\n",
    "for squad in range(len(list(only_23_all['Squad_Code']))):\n",
    "        link = (f\"https://fbref.com/en/players/{only_23_all['Squad_Code'][squad]}/matchlogs/{only_23_all['Year'][squad]}/gca/{only_23_all['Text'][squad]}\")\n",
    "        only_23_gca_list.append(link)\n",
    "\n",
    "pre_23_defense_list = []\n",
    "\n",
    "for squad in range(len(list(pre_23_all['Squad_Code']))):\n",
    "        link = (f\"https://fbref.com/en/players/{pre_23_all['Squad_Code'][squad]}/matchlogs/{pre_23_all['Year'][squad]}/defense/{pre_23_all['Text'][squad]}\")\n",
    "        pre_23_defense_list.append(link)\n",
    "        \n",
    "only_23_defense_list = []\n",
    "\n",
    "for squad in range(len(list(only_23_all['Squad_Code']))):\n",
    "        link = (f\"https://fbref.com/en/players/{only_23_all['Squad_Code'][squad]}/matchlogs/{only_23_all['Year'][squad]}/defense/{only_23_all['Text'][squad]}\")\n",
    "        only_23_defense_list.append(link)\n",
    "        \n",
    "pre_23_poss_list = []\n",
    "\n",
    "for squad in range(len(list(pre_23_all['Squad_Code']))):\n",
    "        link = (f\"https://fbref.com/en/players/{pre_23_all['Squad_Code'][squad]}/matchlogs/{pre_23_all['Year'][squad]}/possession/{pre_23_all['Text'][squad]}\")\n",
    "        pre_23_poss_list.append(link)\n",
    "        \n",
    "only_23_poss_list = []\n",
    "\n",
    "for squad in range(len(list(only_23_all['Squad_Code']))):\n",
    "        link = (f\"https://fbref.com/en/players/{only_23_all['Squad_Code'][squad]}/matchlogs/{only_23_all['Year'][squad]}/possession/{only_23_all['Text'][squad]}\")\n",
    "        only_23_poss_list.append(link) \n",
    "        \n",
    "pre_23_misc_list = []\n",
    "\n",
    "for squad in range(len(list(pre_23_all['Squad_Code']))):\n",
    "        link = (f\"https://fbref.com/en/players/{pre_23_all['Squad_Code'][squad]}/matchlogs/{pre_23_all['Year'][squad]}/misc/{pre_23_all['Text'][squad]}\")\n",
    "        pre_23_misc_list.append(link)\n",
    "        \n",
    "only_23_misc_list = []\n",
    "\n",
    "for squad in range(len(list(only_23_all['Squad_Code']))):\n",
    "        link = (f\"https://fbref.com/en/players/{only_23_all['Squad_Code'][squad]}/matchlogs/{only_23_all['Year'][squad]}/misc/{only_23_all['Text'][squad]}\")\n",
    "        only_23_misc_list.append(link) \n",
    "    "
   ]
  },
  {
   "cell_type": "code",
   "execution_count": null,
   "id": "9fe2125d",
   "metadata": {},
   "outputs": [],
   "source": [
    "# All pre 2023 Info! - Get rid of or comment out before setting up auto run.\n",
    "\n",
    "player_scraper(pre_23_gk_list, gk_df, gk_columns, 'pre_2023_gk')\n",
    "player_scraper(pre_23_summary_list, summary_df, summary_columns, 'pre_2023_summary')\n",
    "player_scraper(pre_23_)"
   ]
  },
  {
   "cell_type": "code",
   "execution_count": null,
   "id": "e0032047",
   "metadata": {},
   "outputs": [],
   "source": [
    "# final test scrape - all 2023 gk data.\n",
    "\n",
    "player_scraper(test1, passing_df,passing_columns, '2023_passing_test' )\n",
    "player_scraper(test2, gca_df, gca_columns, '2023_gca_test' )\n"
   ]
  },
  {
   "cell_type": "code",
   "execution_count": null,
   "id": "87ae0df5",
   "metadata": {},
   "outputs": [],
   "source": [
    "list(passing_df.columns)"
   ]
  },
  {
   "cell_type": "code",
   "execution_count": null,
   "id": "0218dda9",
   "metadata": {},
   "outputs": [],
   "source": [
    "test1 = only_23_passing_list[0:5]\n",
    "test2 = only_23_gca_list[0:5]"
   ]
  },
  {
   "cell_type": "code",
   "execution_count": null,
   "id": "13da52e7",
   "metadata": {},
   "outputs": [],
   "source": [
    "test"
   ]
  },
  {
   "cell_type": "code",
   "execution_count": null,
   "id": "edc2e82a",
   "metadata": {},
   "outputs": [],
   "source": []
  }
 ],
 "metadata": {
  "kernelspec": {
   "display_name": "Python 3 (ipykernel)",
   "language": "python",
   "name": "python3"
  },
  "language_info": {
   "codemirror_mode": {
    "name": "ipython",
    "version": 3
   },
   "file_extension": ".py",
   "mimetype": "text/x-python",
   "name": "python",
   "nbconvert_exporter": "python",
   "pygments_lexer": "ipython3",
   "version": "3.9.13"
  }
 },
 "nbformat": 4,
 "nbformat_minor": 5
}
